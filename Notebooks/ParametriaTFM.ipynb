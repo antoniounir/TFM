{
 "cells": [
  {
   "cell_type": "markdown",
   "id": "42b4095d-42df-4003-b4ce-e3780a9f0429",
   "metadata": {},
   "source": [
    "# TFM - Parametría para la evaluación de la calidad del dato - ParametriaTFM.ipynb"
   ]
  },
  {
   "cell_type": "markdown",
   "id": "3ecbaa2c-1cb7-4fb2-baca-601656ecec04",
   "metadata": {},
   "source": [
    "### Datos del autor\n",
    "Notebook elaborado por: **César Fernando Balaguer García** y **Antonio Luís Almira Martínez** en el marco de la tesis de Máster Universitario en **Análisis y Visualización de Datos Masivos / Visual Analytic y Big Data** (2025). <br>\n",
    "Asesora de tesis: **María Belén Benalcázar Tovar**. <br>\n",
    "Título: **Marco Metodológico que permita medir la calidad de los datos de un conjunto de datos en formatos planos**."
   ]
  },
  {
   "cell_type": "markdown",
   "id": "afb2e8cf-32d0-43ab-92ad-2e07ff4e2039",
   "metadata": {},
   "source": [
    "### Carga las librerías necesarias para la parametría"
   ]
  },
  {
   "cell_type": "code",
   "execution_count": 1,
   "id": "3eb30df4-210e-4418-84b0-82b01fcedeb7",
   "metadata": {},
   "outputs": [],
   "source": [
    "import importlib\n",
    "\n",
    "from IPython.display import display, clear_output\n",
    "from matplotlib.backends.backend_pdf import PdfPages\n",
    "import FuncionesTFM as tfm"
   ]
  },
  {
   "cell_type": "code",
   "execution_count": 2,
   "id": "8be2702e-3548-44f7-b815-f6d841532e71",
   "metadata": {},
   "outputs": [
    {
     "data": {
      "text/plain": [
       "<module 'FuncionesTFM' from 'C:\\\\Users\\\\iyari\\\\Documents\\\\pp\\\\TFM\\\\FuncionesTFM.py'>"
      ]
     },
     "execution_count": 2,
     "metadata": {},
     "output_type": "execute_result"
    }
   ],
   "source": [
    "importlib.reload(tfm)"
   ]
  },
  {
   "cell_type": "code",
   "execution_count": 5,
   "id": "8dea0f6a-7211-4684-ae81-74b82841129c",
   "metadata": {},
   "outputs": [],
   "source": [
    "nombre_archivo = None\n",
    "configuraciones = []\n",
    "respuesta = False"
   ]
  },
  {
   "cell_type": "code",
   "execution_count": 6,
   "id": "e9b5f872-bc65-4848-acd2-a95b29f65999",
   "metadata": {},
   "outputs": [
    {
     "name": "stdout",
     "output_type": "stream",
     "text": [
      "\u001b[1m\u001b[4mConjunto de datos y nombre de campos a evaluar\u001b[0m\n",
      "\n",
      "08004.csv\n",
      "['Total Nacional', 'Comunidades y Ciudades Autónomas', 'Sexo', 'Vacunado', 'Total']\n",
      "✅ Archivo leído con codificación: utf-8\n",
      "\u001b[1m\u001b[4mCONFIGURACIÓN REGISTRADA\u001b[0m\n",
      "\n",
      "Encabezado                Dimensión       Validador                                     Umbral Min Umbral Acep\n",
      "---------------------------------------------------------------------------------------------------------\n",
      "Total Nacional            Completitud                                                        100.0      100.0\n",
      "Total Nacional            Credibilidad    Total                                              100.0      100.0\n",
      "Total Nacional            Consistencia    X5                                                 100.0      100.0\n",
      "Sexo                      Completitud                                                        100.0      100.0\n",
      "Sexo                      Credibilidad    Hombres, Mujeres, Ambos sexos                      100.0      100.0\n",
      "Vacunado                  Completitud                                                        100.0      100.0\n",
      "Vacunado                  Credibilidad    Sí ha sido vacunado, No ha sido vacunado, T        100.0      100.0\n",
      "Total                     Completitud                                                        100.0      100.0\n",
      "Total                     Consistencia    ###.###.##9[,##]                                   100.0      100.0\n",
      "Total                     Exactitud       0 :                                                100.0      100.0\n",
      "Comunidades y Ciudades    Unicidad                                                           100.0      100.0\n"
     ]
    }
   ],
   "source": [
    "nombre_archivo, encabezados, configuraciones, respuesta = tfm.CARGA_DATASET(nombre_archivo)"
   ]
  },
  {
   "cell_type": "markdown",
   "id": "834f0a6b-0888-473f-bedc-7350408f53fd",
   "metadata": {},
   "source": [
    "Solicita los datos para la configuración <br>\n",
    ">- Solicita el dato <br>\n",
    ">- Solicita la dimensión <br>\n",
    ">- Solicita un validador <br>\n",
    ">- Solicita el umbral mínimo <br>\n",
    ">- Solicita el umbral aceptable."
   ]
  },
  {
   "cell_type": "code",
   "execution_count": 4,
   "id": "1f42f4f7-7fe1-4fc4-8d1d-2a29d07b00e9",
   "metadata": {},
   "outputs": [
    {
     "name": "stdout",
     "output_type": "stream",
     "text": [
      "✅ Configuración guardada correctamente: 72963.conf\n",
      "\u001b[1m\u001b[4mCONFIGURACIÓN REGISTRADA\u001b[0m\n",
      "\n",
      "Encabezado                Dimensión       Validador                                     Umbral Min Umbral Acep\n",
      "---------------------------------------------------------------------------------------------------------\n",
      "Type of indicator         Completitud                                                        100.0      100.0\n",
      "Activity branches         Completitud                                                        100.0      100.0\n",
      "Period                    Completitud                                                        100.0      100.0\n",
      "Total                     Completitud                                                        100.0      100.0\n",
      "Type of indicator, Acti   Unicidad                                                           100.0      100.0\n",
      "Period                    Consistencia    yyyy                                               100.0      100.0\n",
      "Total                     Consistencia    ###.###.##9[,##]                                   100.0      100.0\n",
      "Total                     Exactitud       0:                                                 100.0      100.0\n"
     ]
    }
   ],
   "source": [
    "configuraciones = tfm.REGISTRA_PARAMETRIA(nombre_archivo, encabezados, configuraciones, respuesta)"
   ]
  },
  {
   "cell_type": "code",
   "execution_count": null,
   "id": "04ec7863-aaae-487a-94bb-72a00695a0d9",
   "metadata": {},
   "outputs": [],
   "source": []
  }
 ],
 "metadata": {
  "kernelspec": {
   "display_name": "Python 3 (ipykernel)",
   "language": "python",
   "name": "python3"
  },
  "language_info": {
   "codemirror_mode": {
    "name": "ipython",
    "version": 3
   },
   "file_extension": ".py",
   "mimetype": "text/x-python",
   "name": "python",
   "nbconvert_exporter": "python",
   "pygments_lexer": "ipython3",
   "version": "3.12.9"
  }
 },
 "nbformat": 4,
 "nbformat_minor": 5
}

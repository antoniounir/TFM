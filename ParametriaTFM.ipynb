{
 "cells": [
  {
   "cell_type": "markdown",
   "id": "42b4095d-42df-4003-b4ce-e3780a9f0429",
   "metadata": {},
   "source": [
    "# TFM - Parametría para la evaluación de la calidad del dato - ParametriaTFM.ipynb"
   ]
  },
  {
   "cell_type": "markdown",
   "id": "3ecbaa2c-1cb7-4fb2-baca-601656ecec04",
   "metadata": {},
   "source": [
    "### Datos del autor\n",
    "Notebook elaborado por: **César Fernando Balaguer García** y **Antonio Luís Almira Martínez** en el marco de la tesis de Máster Universitario en **Análisis y Visualización de Datos Masivos / Visual Analytic y Big Data** (2025) <br>.\n",
    "Asesora de tesis: **María Belén Benalcázar Tovar**. <br>\n",
    "Título: **Marco Metodológico que permita medir la calidad de los datos de un conjunto de datos en formatos planos**."
   ]
  },
  {
   "cell_type": "markdown",
   "id": "afb2e8cf-32d0-43ab-92ad-2e07ff4e2039",
   "metadata": {
    "jp-MarkdownHeadingCollapsed": true
   },
   "source": [
    "### Carga las librerías necesarias para la parametría"
   ]
  },
  {
   "cell_type": "code",
   "execution_count": 1,
   "id": "3eb30df4-210e-4418-84b0-82b01fcedeb7",
   "metadata": {},
   "outputs": [],
   "source": [
    "import pandas as pd\n",
    "import numpy as np\n",
    "import importlib\n",
    "import seaborn as sns\n",
    "import matplotlib.pyplot as plt\n",
    "import ast\n",
    "import re\n",
    "\n",
    "from IPython.display import display, clear_output\n",
    "from matplotlib.backends.backend_pdf import PdfPages\n"
   ]
  },
  {
   "cell_type": "markdown",
   "id": "bd57fdd9-261a-443b-a1bf-c002aa6cb3e3",
   "metadata": {
    "jp-MarkdownHeadingCollapsed": true
   },
   "source": [
    "### Funciones varias\n",
    "En esta sección definimos funciones básicas que se usarán a lo largo de la medición de la calidad, son rutinas de apoyo que serviran entre otras cosas para imprimir los resultados finales de la medición de la calidad del conjunto de datos o la impresión de los títulos para cada sección"
   ]
  },
  {
   "cell_type": "code",
   "execution_count": 2,
   "id": "64cb0b3f-8fdb-4ee6-8487-4c477354742b",
   "metadata": {},
   "outputs": [],
   "source": [
    "def imprimir_titulo(texto):\n",
    "    print(f\"\\033[1m\\033[4m{texto}\\033[0m\")  # Negrita + subrayado\n"
   ]
  },
  {
   "cell_type": "code",
   "execution_count": 3,
   "id": "c4641208-c52e-4f77-9fae-60f53d1f5d3c",
   "metadata": {},
   "outputs": [],
   "source": [
    "def imprimir_parametria(configuraciones):\n",
    "    imprimir_titulo(\"Configuraciones registradas\")\n",
    "    print(\"\")\n",
    "    print(f\"{'Encabezado':<25} {'Dimensión':<15} {'Validador':<25} {'Umbral Min':<10} {'Umbral Acep':<10}\")\n",
    "    print(\"-\" * 90)\n",
    "\n",
    "    for config in configuraciones:\n",
    "        encabezado = \", \".join(config['encabezado'])\n",
    "        print(f\"{encabezado:<25} {config['dimension']:<15} {config['validador']:<25} {config['umbral_minimo']:<10} {config['umbral_aceptable']:<10}\")\n"
   ]
  },
  {
   "cell_type": "markdown",
   "id": "9be6bcf7-c1f7-4745-aea4-ca61dfd2375c",
   "metadata": {},
   "source": [
    "### Configuración del validador\n",
    "En esta primera parte se va a configurar el validador de la calidad del conjunto de datos, para ello se van a realizar los siguientes pasos: <br>\n",
    ">- Creación de una lista con las dimensiones que se van a evaluar\n",
    ">- Carga del dataset en formato CSV con la información que se va a evaluar, esto con el fin de obtener los encabezados o nombres de columnas\n",
    ">- Registro de una lista de configuración, donde se tendrán los siguientes datos:\n",
    ">>- Nombre de la columna a evaluar\n",
    ">>- Nombre de la dimensión\n",
    ">>- Validador Se registra solo para las dimensiones de Consistencia, Exactitud y Credibilidad\n",
    ">>- Umbral mínimo el cual debe ser un valor numérico entre 0% y 100%\n",
    ">>- Umbral máximo el cual debe ser un valor numérico entre 0% y 100%\n",
    ">>\n",
    ">\n",
    "Finalmente la configuración almacenará el registro realizado en un archivo con extensión **CSV** para tenerlo como registro de las validaciones y umbrales realizados."
   ]
  },
  {
   "cell_type": "markdown",
   "id": "ff473e8f-0df5-4755-ba2d-11a00e12e7eb",
   "metadata": {},
   "source": [
    "Creación de la lista de dimensiones incluyendo aquellas que se van a utilizar para la medición de la calidad y adicionalmente crea la lista de configuración, donde se registrarán los datos, dimensiones, validadores y umbrales a utilizar para medir la calidad del dato"
   ]
  },
  {
   "cell_type": "code",
   "execution_count": 4,
   "id": "9dec92b9-7cbd-4d11-83ce-539dd0561b21",
   "metadata": {},
   "outputs": [],
   "source": [
    "dimensiones = [\n",
    "    \"Exactitud\",\n",
    "    \"Completitud\",\n",
    "    \"Consistencia\",\n",
    "    \"Credibilidad\",\n",
    "    \"Unicidad\"\n",
    "]\n",
    "configuraciones = []\n",
    "nombre_archivo = \"\""
   ]
  },
  {
   "cell_type": "code",
   "execution_count": 5,
   "id": "b6add3e9-2689-4964-9884-becbc7c7f17e",
   "metadata": {},
   "outputs": [
    {
     "name": "stdout",
     "output_type": "stream",
     "text": [
      "\u001b[1m\u001b[4mConjunto de datos y nombre de campos a evaluar\u001b[0m\n",
      "\n",
      "dataset.csv\n",
      "['CONTENIDO A ANALIZAR', 'INTENSIDAD']\n"
     ]
    }
   ],
   "source": [
    "nombre_archivo = input(\"\\nIngrese el nombre del archivo de datos a evaluar (sin extensión): \")\n",
    "archivo = nombre_archivo + \".csv\"\n",
    "df = pd.read_csv(archivo, sep=\";\")\n",
    "\n",
    "encabezados = list(df.columns)\n",
    "clear_output(wait=True)\n",
    "\n",
    "imprimir_titulo(\"Conjunto de datos y nombre de campos a evaluar\")\n",
    "print(\"\")\n",
    "print(archivo)\n",
    "print(encabezados)"
   ]
  },
  {
   "cell_type": "markdown",
   "id": "834f0a6b-0888-473f-bedc-7350408f53fd",
   "metadata": {},
   "source": [
    "Solicita los datos para la configuración <br>\n",
    ">- Solicita el dato <br>\n",
    ">- Solicita la dimensión <br>\n",
    ">- Solicita un validador <br>\n",
    ">- Solicita el umbral mínimo <br>\n",
    ">- Solicita el umbral aceptable."
   ]
  },
  {
   "cell_type": "code",
   "execution_count": 6,
   "id": "b5e31ff9-65e4-44b2-b9dd-6d0faa51a622",
   "metadata": {},
   "outputs": [
    {
     "name": "stdout",
     "output_type": "stream",
     "text": [
      "\u001b[1m\u001b[4mConfiguraciones registradas\u001b[0m\n",
      "\n",
      "Encabezado                Dimensión       Validador                 Umbral Min Umbral Acep\n",
      "------------------------------------------------------------------------------------------\n",
      "CONTENIDO A ANALIZAR      Completitud                               100.0      100.0     \n",
      "CONTENIDO A ANALIZAR      Unicidad                                  100.0      100.0     \n",
      "INTENSIDAD                Completitud                               100.0      100.0     \n",
      "INTENSIDAD                Credibilidad    1, 2, 3, 4                98.0       99.0      \n",
      "INTENSIDAD                Consistencia    9                         100.0      100.0     \n",
      "INTENSIDAD                Exactitud       1:4                       98.0       99.0      \n"
     ]
    }
   ],
   "source": [
    "imprimir_titulo(\"Registre los datos necesarios para realizar la validación del conjunto de datos\")\n",
    "\n",
    "while True:\n",
    "    entrada = input(\"\\nSelecciona un nombre de campo o varios (ejemplo: campo1 o [\\\"campo1\\\", \\\"campo2\\\"] a evaluar) (deja en blanco para terminar): \")\n",
    "    \n",
    "    if entrada.strip() == \"\":\n",
    "        break\n",
    "\n",
    "    try:\n",
    "        encabezado = ast.literal_eval(entrada) if entrada.strip().startswith(\"[\") else entrada.strip()\n",
    "    except Exception:\n",
    "        print(\"Formato inválido. Si deseas ingresar varios campos usa el formato: [\\\"campo1\\\", \\\"campo2\\\"]\")\n",
    "        continue\n",
    "\n",
    "    if isinstance(encabezado, str):\n",
    "        encabezado = [encabezado]\n",
    "\n",
    "    if not all(campo in encabezados for campo in encabezado):\n",
    "        print(\"Uno o más encabezados no válidos. Intenta de nuevo.\")\n",
    "        continue\n",
    "\n",
    "    dimension = input(\"Selecciona una dimensión: \")\n",
    "    if dimension not in dimensiones:\n",
    "        print(\"Dimensión no válida. Intenta de nuevo.\")\n",
    "        continue\n",
    "\n",
    "    if (dimension == \"Consistencia\") | (dimension == \"Exactitud\") | (dimension == \"Credibilidad\"):\n",
    "        while True:\n",
    "            validador = input(\"Ingresa el campo validador: \")\n",
    "            if validador != \"\":\n",
    "                break\n",
    "            else:\n",
    "                print(\"El campo 'validador' es obligatorio para la dimensión.\")\n",
    "    else:\n",
    "        validador = \" \"\n",
    "\n",
    "    while True:\n",
    "        try:\n",
    "            umbral_minimo = float(input(\"Ingresa el umbral mínimo (0 a 100): \"))\n",
    "            if 0 <= umbral_minimo <= 100:\n",
    "                break\n",
    "            else:\n",
    "                print(\"Debe ser un valor entre 0 y 100.\")\n",
    "        except ValueError:\n",
    "            print(\"Ingresa un número válido.\")\n",
    "\n",
    "    while True:\n",
    "        try:\n",
    "            umbral_aceptable = float(input(\"Ingresa el umbral aceptable (0 a 100): \"))\n",
    "            if 0 <= umbral_aceptable <= 100:\n",
    "                if umbral_aceptable < umbral_minimo:\n",
    "                    print(\"El umbral aceptable debe ser mayor o igual al umbral mínimo\")\n",
    "                else:\n",
    "                    break\n",
    "            else:\n",
    "                print(\"Debe ser un valor entre 0 y 100.\")\n",
    "        except ValueError:\n",
    "            print(\"Ingresa un número válido.\")\n",
    "\n",
    "    configuraciones.append({\n",
    "        \"encabezado\": encabezado,\n",
    "        \"dimension\": dimension,\n",
    "        \"validador\": validador,\n",
    "        \"umbral_minimo\": umbral_minimo,\n",
    "        \"umbral_aceptable\": umbral_aceptable\n",
    "    })\n",
    "\n",
    "clear_output(wait=True)\n",
    "imprimir_parametria(configuraciones)\n"
   ]
  },
  {
   "cell_type": "code",
   "execution_count": 7,
   "id": "5c5fccc6-3bcb-403e-9c4e-9aa896d17a09",
   "metadata": {},
   "outputs": [
    {
     "name": "stdout",
     "output_type": "stream",
     "text": [
      "\n",
      "Configuración guardada correctamente en 'dataset.conf'\n"
     ]
    }
   ],
   "source": [
    "nombre_salida = nombre_archivo + \".conf\"\n",
    "df_config = pd.DataFrame(configuraciones)\n",
    "df_config.to_csv(nombre_salida, sep=';', index=False)\n",
    "clear_output(wait=True)\n",
    "\n",
    "print(f\"\\nConfiguración guardada correctamente en '{nombre_salida}'\")\n"
   ]
  }
 ],
 "metadata": {
  "kernelspec": {
   "display_name": "Python 3 (ipykernel)",
   "language": "python",
   "name": "python3"
  },
  "language_info": {
   "codemirror_mode": {
    "name": "ipython",
    "version": 3
   },
   "file_extension": ".py",
   "mimetype": "text/x-python",
   "name": "python",
   "nbconvert_exporter": "python",
   "pygments_lexer": "ipython3",
   "version": "3.12.9"
  }
 },
 "nbformat": 4,
 "nbformat_minor": 5
}
